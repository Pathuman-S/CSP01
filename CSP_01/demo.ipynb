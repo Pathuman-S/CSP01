{
 "cells": [
  {
   "cell_type": "code",
   "execution_count": 1,
   "metadata": {},
   "outputs": [],
   "source": [
    "import pandas as pd\n",
    "import numpy as np"
   ]
  },
  {
   "cell_type": "code",
   "execution_count": 3,
   "metadata": {},
   "outputs": [
    {
     "data": {
      "text/plain": [
       "<bound method NDFrame.describe of                                                    sha256 appeared  label  \\\n",
       "0       0abb4fda7d5b13801d63bee53e5e256be43e141faa077a...  2006-12      0   \n",
       "1       d4206650743b3d519106dea10a38a55c30467c3d9f7875...  2006-12      0   \n",
       "2       c9cafff8a596ba8a80bafb4ba8ae6f2ef3329d95b85f15...  2007-01      0   \n",
       "3       7f513818bcc276c531af2e641c597744da807e21cc1160...  2007-02      0   \n",
       "4       ca65e1c387a4cc9e7d8a8ce12bf1bcf9f534c9032b9d95...  2007-02      0   \n",
       "...                                                   ...      ...    ...   \n",
       "219995  fffc51db2f5f45159284276ee900312b3893839390ae90...  2017-02      0   \n",
       "219996  fffd336fde879a1f402d7f9511eb94c428ae8efe1d7dec...  2017-02     -1   \n",
       "219997  fffe69f9736830997c67344c552da81a4ac403ea2c67ed...  2017-02      0   \n",
       "219998  fffe936a25e2cafbe1e5fa6c34eb272da7151e184b28a9...  2017-02     -1   \n",
       "219999  fffee7f4086f9942cb97ed15426c50b948e5d2f9ab3a5e...  2017-02      0   \n",
       "\n",
       "                                                histogram  \\\n",
       "0       [45521, 13095, 12167, 12496, 12429, 11709, 118...   \n",
       "1       [89698, 17443, 13695, 12921, 11428, 8866, 9528...   \n",
       "2       [93059, 15789, 2871, 3005, 4107, 1771, 2918, 4...   \n",
       "3       [21315, 9641, 9332, 9358, 9598, 9220, 9146, 93...   \n",
       "4       [23539, 6015, 5214, 4727, 4892, 4649, 4367, 52...   \n",
       "...                                                   ...   \n",
       "219995  [706133, 12082, 211783, 7590, 7567, 1079, 797,...   \n",
       "219996  [16689, 872, 540, 551, 1529, 672, 636, 540, 89...   \n",
       "219997  [589493, 36256, 28745, 17696, 18656, 14137, 44...   \n",
       "219998  [764582, 59488, 51695, 34066, 65647, 34303, 31...   \n",
       "219999  [35598, 1137, 872, 1077, 968, 1000, 782, 1092,...   \n",
       "\n",
       "                                              byteentropy  \\\n",
       "0       [0, 0, 0, 0, 0, 0, 0, 0, 0, 0, 0, 0, 0, 0, 0, ...   \n",
       "1       [65236, 16, 24, 13, 28, 11, 121, 40, 5, 7, 5, ...   \n",
       "2       [47100, 2, 0, 0, 0, 0, 2, 0, 0, 0, 0, 0, 0, 0,...   \n",
       "3       [0, 0, 0, 0, 0, 0, 0, 0, 0, 0, 0, 0, 0, 0, 0, ...   \n",
       "4       [0, 0, 0, 0, 0, 0, 0, 0, 0, 0, 0, 0, 0, 0, 0, ...   \n",
       "...                                                   ...   \n",
       "219995  [1662211, 423, 219, 47, 122, 109, 59, 127, 929...   \n",
       "219996  [12269, 0, 1, 2, 5, 2, 0, 1, 0, 0, 0, 2, 0, 0,...   \n",
       "219997  [166540, 32, 17, 16, 22, 29, 12103, 266, 492, ...   \n",
       "219998  [153183, 143, 73, 72, 51, 0, 0, 0, 45, 0, 0, 0...   \n",
       "219999  [18417, 15, 0, 0, 0, 0, 0, 0, 0, 0, 0, 0, 0, 0...   \n",
       "\n",
       "                                                  strings  \\\n",
       "0       {'numstrings': 14573, 'avlength': 5.9720716393...   \n",
       "1       {'numstrings': 4385, 'avlength': 6.35712656784...   \n",
       "2       {'numstrings': 1803, 'avlength': 11.1913477537...   \n",
       "3       {'numstrings': 11166, 'avlength': 5.8078989790...   \n",
       "4       {'numstrings': 5547, 'avlength': 6.04344690823...   \n",
       "...                                                   ...   \n",
       "219995  {'numstrings': 4463, 'avlength': 11.9973112256...   \n",
       "219996  {'numstrings': 2719, 'avlength': 8.66237587348...   \n",
       "219997  {'numstrings': 9627, 'avlength': 19.3021709774...   \n",
       "219998  {'numstrings': 99071, 'avlength': 11.910821532...   \n",
       "219999  {'numstrings': 1333, 'avlength': 7.00750187546...   \n",
       "\n",
       "                                                  general  \\\n",
       "0       {'size': 3101705, 'vsize': 380928, 'has_debug'...   \n",
       "1       {'size': 1240795, 'vsize': 1318912, 'has_debug...   \n",
       "2       {'size': 504320, 'vsize': 524288, 'has_debug':...   \n",
       "3       {'size': 2377730, 'vsize': 77824, 'has_debug':...   \n",
       "4       {'size': 1153808, 'vsize': 1167360, 'has_debug...   \n",
       "...                                                   ...   \n",
       "219995  {'size': 2867268, 'vsize': 2867200, 'has_debug...   \n",
       "219996  {'size': 180224, 'vsize': 421888, 'has_debug':...   \n",
       "219997  {'size': 2367488, 'vsize': 2379776, 'has_debug...   \n",
       "219998  {'size': 7302578, 'vsize': 28672, 'has_debug':...   \n",
       "219999  {'size': 282624, 'vsize': 282624, 'has_debug':...   \n",
       "\n",
       "                                                   header  \\\n",
       "0       {'coff': {'timestamp': 1124149349, 'machine': ...   \n",
       "1       {'coff': {'timestamp': 708992537, 'machine': '...   \n",
       "2       {'coff': {'timestamp': 1091600092, 'machine': ...   \n",
       "3       {'coff': {'timestamp': 708992537, 'machine': '...   \n",
       "4       {'coff': {'timestamp': 938258311, 'machine': '...   \n",
       "...                                                   ...   \n",
       "219995  {'coff': {'timestamp': 1194586656, 'machine': ...   \n",
       "219996  {'coff': {'timestamp': 1091599193, 'machine': ...   \n",
       "219997  {'coff': {'timestamp': 1439526775, 'machine': ...   \n",
       "219998  {'coff': {'timestamp': 1301832471, 'machine': ...   \n",
       "219999  {'coff': {'timestamp': 1030981857, 'machine': ...   \n",
       "\n",
       "                                                  section  \\\n",
       "0       {'entry': '.text', 'sections': [{'name': '.tex...   \n",
       "1       {'entry': 'UPX0', 'sections': [{'name': 'UPX0'...   \n",
       "2       {'entry': '.text', 'sections': [{'name': '.tex...   \n",
       "3       {'entry': 'CODE', 'sections': [{'name': 'CODE'...   \n",
       "4       {'entry': '.text', 'sections': [{'name': '.tex...   \n",
       "...                                                   ...   \n",
       "219995  {'entry': '', 'sections': [{'name': '.text', '...   \n",
       "219996  {'entry': '.text', 'sections': [{'name': '.tex...   \n",
       "219997  {'entry': '.xdata', 'sections': [{'name': '.da...   \n",
       "219998  {'entry': '.code', 'sections': [{'name': '.cod...   \n",
       "219999  {'entry': '', 'sections': [{'name': '.rsrc', '...   \n",
       "\n",
       "                                                  imports exports  \n",
       "0       {'KERNEL32.dll': ['SetFileTime', 'CompareFileT...      []  \n",
       "1       {'KERNEL32.DLL': ['LoadLibraryA', 'GetProcAddr...      []  \n",
       "2       {'ADVAPI32.dll': ['ConvertStringSecurityDescri...      []  \n",
       "3       {'kernel32.dll': ['DeleteCriticalSection', 'Le...      []  \n",
       "4       {'ADVAPI32.dll': ['RegCloseKey', 'AllocateAndI...      []  \n",
       "...                                                   ...     ...  \n",
       "219995                                                 {}      []  \n",
       "219996  {'msvcrt.dll': ['_adjust_fdiv', '??3@YAXPAX@Z'...      []  \n",
       "219997                                                 {}      []  \n",
       "219998  {'MSVCRT.dll': ['memset', 'memcpy', '_stricmp'...      []  \n",
       "219999                                                 {}      []  \n",
       "\n",
       "[220000 rows x 11 columns]>"
      ]
     },
     "execution_count": 3,
     "metadata": {},
     "output_type": "execute_result"
    }
   ],
   "source": [
    "from sklearn.preprocessing import MinMaxScaler\n",
    "\n",
    "# Load your dataset\n",
    "df = pd.read_csv('cleaned_ember_dataset1.csv')\n",
    "df.describe\n",
    "\n"
   ]
  },
  {
   "cell_type": "code",
   "execution_count": 4,
   "metadata": {},
   "outputs": [
    {
     "data": {
      "text/html": [
       "<div>\n",
       "<style scoped>\n",
       "    .dataframe tbody tr th:only-of-type {\n",
       "        vertical-align: middle;\n",
       "    }\n",
       "\n",
       "    .dataframe tbody tr th {\n",
       "        vertical-align: top;\n",
       "    }\n",
       "\n",
       "    .dataframe thead th {\n",
       "        text-align: right;\n",
       "    }\n",
       "</style>\n",
       "<table border=\"1\" class=\"dataframe\">\n",
       "  <thead>\n",
       "    <tr style=\"text-align: right;\">\n",
       "      <th></th>\n",
       "      <th>sha256</th>\n",
       "      <th>appeared</th>\n",
       "      <th>label</th>\n",
       "      <th>histogram</th>\n",
       "      <th>byteentropy</th>\n",
       "      <th>strings</th>\n",
       "      <th>general</th>\n",
       "      <th>header</th>\n",
       "      <th>section</th>\n",
       "      <th>imports</th>\n",
       "      <th>exports</th>\n",
       "    </tr>\n",
       "  </thead>\n",
       "  <tbody>\n",
       "    <tr>\n",
       "      <th>0</th>\n",
       "      <td>0abb4fda7d5b13801d63bee53e5e256be43e141faa077a...</td>\n",
       "      <td>2006-12</td>\n",
       "      <td>0</td>\n",
       "      <td>[45521, 13095, 12167, 12496, 12429, 11709, 118...</td>\n",
       "      <td>[0, 0, 0, 0, 0, 0, 0, 0, 0, 0, 0, 0, 0, 0, 0, ...</td>\n",
       "      <td>{'numstrings': 14573, 'avlength': 5.9720716393...</td>\n",
       "      <td>{'size': 3101705, 'vsize': 380928, 'has_debug'...</td>\n",
       "      <td>{'coff': {'timestamp': 1124149349, 'machine': ...</td>\n",
       "      <td>{'entry': '.text', 'sections': [{'name': '.tex...</td>\n",
       "      <td>{'KERNEL32.dll': ['SetFileTime', 'CompareFileT...</td>\n",
       "      <td>[]</td>\n",
       "    </tr>\n",
       "    <tr>\n",
       "      <th>1</th>\n",
       "      <td>d4206650743b3d519106dea10a38a55c30467c3d9f7875...</td>\n",
       "      <td>2006-12</td>\n",
       "      <td>0</td>\n",
       "      <td>[89698, 17443, 13695, 12921, 11428, 8866, 9528...</td>\n",
       "      <td>[65236, 16, 24, 13, 28, 11, 121, 40, 5, 7, 5, ...</td>\n",
       "      <td>{'numstrings': 4385, 'avlength': 6.35712656784...</td>\n",
       "      <td>{'size': 1240795, 'vsize': 1318912, 'has_debug...</td>\n",
       "      <td>{'coff': {'timestamp': 708992537, 'machine': '...</td>\n",
       "      <td>{'entry': 'UPX0', 'sections': [{'name': 'UPX0'...</td>\n",
       "      <td>{'KERNEL32.DLL': ['LoadLibraryA', 'GetProcAddr...</td>\n",
       "      <td>[]</td>\n",
       "    </tr>\n",
       "    <tr>\n",
       "      <th>2</th>\n",
       "      <td>c9cafff8a596ba8a80bafb4ba8ae6f2ef3329d95b85f15...</td>\n",
       "      <td>2007-01</td>\n",
       "      <td>0</td>\n",
       "      <td>[93059, 15789, 2871, 3005, 4107, 1771, 2918, 4...</td>\n",
       "      <td>[47100, 2, 0, 0, 0, 0, 2, 0, 0, 0, 0, 0, 0, 0,...</td>\n",
       "      <td>{'numstrings': 1803, 'avlength': 11.1913477537...</td>\n",
       "      <td>{'size': 504320, 'vsize': 524288, 'has_debug':...</td>\n",
       "      <td>{'coff': {'timestamp': 1091600092, 'machine': ...</td>\n",
       "      <td>{'entry': '.text', 'sections': [{'name': '.tex...</td>\n",
       "      <td>{'ADVAPI32.dll': ['ConvertStringSecurityDescri...</td>\n",
       "      <td>[]</td>\n",
       "    </tr>\n",
       "    <tr>\n",
       "      <th>3</th>\n",
       "      <td>7f513818bcc276c531af2e641c597744da807e21cc1160...</td>\n",
       "      <td>2007-02</td>\n",
       "      <td>0</td>\n",
       "      <td>[21315, 9641, 9332, 9358, 9598, 9220, 9146, 93...</td>\n",
       "      <td>[0, 0, 0, 0, 0, 0, 0, 0, 0, 0, 0, 0, 0, 0, 0, ...</td>\n",
       "      <td>{'numstrings': 11166, 'avlength': 5.8078989790...</td>\n",
       "      <td>{'size': 2377730, 'vsize': 77824, 'has_debug':...</td>\n",
       "      <td>{'coff': {'timestamp': 708992537, 'machine': '...</td>\n",
       "      <td>{'entry': 'CODE', 'sections': [{'name': 'CODE'...</td>\n",
       "      <td>{'kernel32.dll': ['DeleteCriticalSection', 'Le...</td>\n",
       "      <td>[]</td>\n",
       "    </tr>\n",
       "    <tr>\n",
       "      <th>4</th>\n",
       "      <td>ca65e1c387a4cc9e7d8a8ce12bf1bcf9f534c9032b9d95...</td>\n",
       "      <td>2007-02</td>\n",
       "      <td>0</td>\n",
       "      <td>[23539, 6015, 5214, 4727, 4892, 4649, 4367, 52...</td>\n",
       "      <td>[0, 0, 0, 0, 0, 0, 0, 0, 0, 0, 0, 0, 0, 0, 0, ...</td>\n",
       "      <td>{'numstrings': 5547, 'avlength': 6.04344690823...</td>\n",
       "      <td>{'size': 1153808, 'vsize': 1167360, 'has_debug...</td>\n",
       "      <td>{'coff': {'timestamp': 938258311, 'machine': '...</td>\n",
       "      <td>{'entry': '.text', 'sections': [{'name': '.tex...</td>\n",
       "      <td>{'ADVAPI32.dll': ['RegCloseKey', 'AllocateAndI...</td>\n",
       "      <td>[]</td>\n",
       "    </tr>\n",
       "  </tbody>\n",
       "</table>\n",
       "</div>"
      ],
      "text/plain": [
       "                                              sha256 appeared  label  \\\n",
       "0  0abb4fda7d5b13801d63bee53e5e256be43e141faa077a...  2006-12      0   \n",
       "1  d4206650743b3d519106dea10a38a55c30467c3d9f7875...  2006-12      0   \n",
       "2  c9cafff8a596ba8a80bafb4ba8ae6f2ef3329d95b85f15...  2007-01      0   \n",
       "3  7f513818bcc276c531af2e641c597744da807e21cc1160...  2007-02      0   \n",
       "4  ca65e1c387a4cc9e7d8a8ce12bf1bcf9f534c9032b9d95...  2007-02      0   \n",
       "\n",
       "                                           histogram  \\\n",
       "0  [45521, 13095, 12167, 12496, 12429, 11709, 118...   \n",
       "1  [89698, 17443, 13695, 12921, 11428, 8866, 9528...   \n",
       "2  [93059, 15789, 2871, 3005, 4107, 1771, 2918, 4...   \n",
       "3  [21315, 9641, 9332, 9358, 9598, 9220, 9146, 93...   \n",
       "4  [23539, 6015, 5214, 4727, 4892, 4649, 4367, 52...   \n",
       "\n",
       "                                         byteentropy  \\\n",
       "0  [0, 0, 0, 0, 0, 0, 0, 0, 0, 0, 0, 0, 0, 0, 0, ...   \n",
       "1  [65236, 16, 24, 13, 28, 11, 121, 40, 5, 7, 5, ...   \n",
       "2  [47100, 2, 0, 0, 0, 0, 2, 0, 0, 0, 0, 0, 0, 0,...   \n",
       "3  [0, 0, 0, 0, 0, 0, 0, 0, 0, 0, 0, 0, 0, 0, 0, ...   \n",
       "4  [0, 0, 0, 0, 0, 0, 0, 0, 0, 0, 0, 0, 0, 0, 0, ...   \n",
       "\n",
       "                                             strings  \\\n",
       "0  {'numstrings': 14573, 'avlength': 5.9720716393...   \n",
       "1  {'numstrings': 4385, 'avlength': 6.35712656784...   \n",
       "2  {'numstrings': 1803, 'avlength': 11.1913477537...   \n",
       "3  {'numstrings': 11166, 'avlength': 5.8078989790...   \n",
       "4  {'numstrings': 5547, 'avlength': 6.04344690823...   \n",
       "\n",
       "                                             general  \\\n",
       "0  {'size': 3101705, 'vsize': 380928, 'has_debug'...   \n",
       "1  {'size': 1240795, 'vsize': 1318912, 'has_debug...   \n",
       "2  {'size': 504320, 'vsize': 524288, 'has_debug':...   \n",
       "3  {'size': 2377730, 'vsize': 77824, 'has_debug':...   \n",
       "4  {'size': 1153808, 'vsize': 1167360, 'has_debug...   \n",
       "\n",
       "                                              header  \\\n",
       "0  {'coff': {'timestamp': 1124149349, 'machine': ...   \n",
       "1  {'coff': {'timestamp': 708992537, 'machine': '...   \n",
       "2  {'coff': {'timestamp': 1091600092, 'machine': ...   \n",
       "3  {'coff': {'timestamp': 708992537, 'machine': '...   \n",
       "4  {'coff': {'timestamp': 938258311, 'machine': '...   \n",
       "\n",
       "                                             section  \\\n",
       "0  {'entry': '.text', 'sections': [{'name': '.tex...   \n",
       "1  {'entry': 'UPX0', 'sections': [{'name': 'UPX0'...   \n",
       "2  {'entry': '.text', 'sections': [{'name': '.tex...   \n",
       "3  {'entry': 'CODE', 'sections': [{'name': 'CODE'...   \n",
       "4  {'entry': '.text', 'sections': [{'name': '.tex...   \n",
       "\n",
       "                                             imports exports  \n",
       "0  {'KERNEL32.dll': ['SetFileTime', 'CompareFileT...      []  \n",
       "1  {'KERNEL32.DLL': ['LoadLibraryA', 'GetProcAddr...      []  \n",
       "2  {'ADVAPI32.dll': ['ConvertStringSecurityDescri...      []  \n",
       "3  {'kernel32.dll': ['DeleteCriticalSection', 'Le...      []  \n",
       "4  {'ADVAPI32.dll': ['RegCloseKey', 'AllocateAndI...      []  "
      ]
     },
     "execution_count": 4,
     "metadata": {},
     "output_type": "execute_result"
    }
   ],
   "source": [
    "df.head()"
   ]
  },
  {
   "cell_type": "code",
   "execution_count": 13,
   "metadata": {},
   "outputs": [
    {
     "name": "stdout",
     "output_type": "stream",
     "text": [
      "(220000, 1)\n"
     ]
    }
   ],
   "source": [
    "# Extract the 'label' column\n",
    "labels = df['label'].values\n",
    "\n",
    "# Normalize the labels (in this case, 0 or 1, so no need for scaling)\n",
    "labels = labels.reshape(-1, 1)\n",
    "\n",
    "# Check the shape\n",
    "print(labels.shape)"
   ]
  },
  {
   "cell_type": "code",
   "execution_count": 14,
   "metadata": {},
   "outputs": [
    {
     "name": "stderr",
     "output_type": "stream",
     "text": [
      "/Library/Frameworks/Python.framework/Versions/3.11/lib/python3.11/site-packages/keras/src/layers/core/dense.py:87: UserWarning: Do not pass an `input_shape`/`input_dim` argument to a layer. When using Sequential models, prefer using an `Input(shape)` object as the first layer in the model instead.\n",
      "  super().__init__(activity_regularizer=activity_regularizer, **kwargs)\n"
     ]
    },
    {
     "data": {
      "text/html": [
       "<pre style=\"white-space:pre;overflow-x:auto;line-height:normal;font-family:Menlo,'DejaVu Sans Mono',consolas,'Courier New',monospace\"><span style=\"font-weight: bold\">Model: \"sequential\"</span>\n",
       "</pre>\n"
      ],
      "text/plain": [
       "\u001b[1mModel: \"sequential\"\u001b[0m\n"
      ]
     },
     "metadata": {},
     "output_type": "display_data"
    },
    {
     "data": {
      "text/html": [
       "<pre style=\"white-space:pre;overflow-x:auto;line-height:normal;font-family:Menlo,'DejaVu Sans Mono',consolas,'Courier New',monospace\">┏━━━━━━━━━━━━━━━━━━━━━━━━━━━━━━━━━┳━━━━━━━━━━━━━━━━━━━━━━━━┳━━━━━━━━━━━━━━━┓\n",
       "┃<span style=\"font-weight: bold\"> Layer (type)                    </span>┃<span style=\"font-weight: bold\"> Output Shape           </span>┃<span style=\"font-weight: bold\">       Param # </span>┃\n",
       "┡━━━━━━━━━━━━━━━━━━━━━━━━━━━━━━━━━╇━━━━━━━━━━━━━━━━━━━━━━━━╇━━━━━━━━━━━━━━━┩\n",
       "│ dense (<span style=\"color: #0087ff; text-decoration-color: #0087ff\">Dense</span>)                   │ (<span style=\"color: #00d7ff; text-decoration-color: #00d7ff\">None</span>, <span style=\"color: #00af00; text-decoration-color: #00af00\">16</span>)             │           <span style=\"color: #00af00; text-decoration-color: #00af00\">176</span> │\n",
       "├─────────────────────────────────┼────────────────────────┼───────────────┤\n",
       "│ dense_1 (<span style=\"color: #0087ff; text-decoration-color: #0087ff\">Dense</span>)                 │ (<span style=\"color: #00d7ff; text-decoration-color: #00d7ff\">None</span>, <span style=\"color: #00af00; text-decoration-color: #00af00\">32</span>)             │           <span style=\"color: #00af00; text-decoration-color: #00af00\">544</span> │\n",
       "├─────────────────────────────────┼────────────────────────┼───────────────┤\n",
       "│ dense_2 (<span style=\"color: #0087ff; text-decoration-color: #0087ff\">Dense</span>)                 │ (<span style=\"color: #00d7ff; text-decoration-color: #00d7ff\">None</span>, <span style=\"color: #00af00; text-decoration-color: #00af00\">1</span>)              │            <span style=\"color: #00af00; text-decoration-color: #00af00\">33</span> │\n",
       "└─────────────────────────────────┴────────────────────────┴───────────────┘\n",
       "</pre>\n"
      ],
      "text/plain": [
       "┏━━━━━━━━━━━━━━━━━━━━━━━━━━━━━━━━━┳━━━━━━━━━━━━━━━━━━━━━━━━┳━━━━━━━━━━━━━━━┓\n",
       "┃\u001b[1m \u001b[0m\u001b[1mLayer (type)                   \u001b[0m\u001b[1m \u001b[0m┃\u001b[1m \u001b[0m\u001b[1mOutput Shape          \u001b[0m\u001b[1m \u001b[0m┃\u001b[1m \u001b[0m\u001b[1m      Param #\u001b[0m\u001b[1m \u001b[0m┃\n",
       "┡━━━━━━━━━━━━━━━━━━━━━━━━━━━━━━━━━╇━━━━━━━━━━━━━━━━━━━━━━━━╇━━━━━━━━━━━━━━━┩\n",
       "│ dense (\u001b[38;5;33mDense\u001b[0m)                   │ (\u001b[38;5;45mNone\u001b[0m, \u001b[38;5;34m16\u001b[0m)             │           \u001b[38;5;34m176\u001b[0m │\n",
       "├─────────────────────────────────┼────────────────────────┼───────────────┤\n",
       "│ dense_1 (\u001b[38;5;33mDense\u001b[0m)                 │ (\u001b[38;5;45mNone\u001b[0m, \u001b[38;5;34m32\u001b[0m)             │           \u001b[38;5;34m544\u001b[0m │\n",
       "├─────────────────────────────────┼────────────────────────┼───────────────┤\n",
       "│ dense_2 (\u001b[38;5;33mDense\u001b[0m)                 │ (\u001b[38;5;45mNone\u001b[0m, \u001b[38;5;34m1\u001b[0m)              │            \u001b[38;5;34m33\u001b[0m │\n",
       "└─────────────────────────────────┴────────────────────────┴───────────────┘\n"
      ]
     },
     "metadata": {},
     "output_type": "display_data"
    },
    {
     "data": {
      "text/html": [
       "<pre style=\"white-space:pre;overflow-x:auto;line-height:normal;font-family:Menlo,'DejaVu Sans Mono',consolas,'Courier New',monospace\"><span style=\"font-weight: bold\"> Total params: </span><span style=\"color: #00af00; text-decoration-color: #00af00\">753</span> (2.94 KB)\n",
       "</pre>\n"
      ],
      "text/plain": [
       "\u001b[1m Total params: \u001b[0m\u001b[38;5;34m753\u001b[0m (2.94 KB)\n"
      ]
     },
     "metadata": {},
     "output_type": "display_data"
    },
    {
     "data": {
      "text/html": [
       "<pre style=\"white-space:pre;overflow-x:auto;line-height:normal;font-family:Menlo,'DejaVu Sans Mono',consolas,'Courier New',monospace\"><span style=\"font-weight: bold\"> Trainable params: </span><span style=\"color: #00af00; text-decoration-color: #00af00\">753</span> (2.94 KB)\n",
       "</pre>\n"
      ],
      "text/plain": [
       "\u001b[1m Trainable params: \u001b[0m\u001b[38;5;34m753\u001b[0m (2.94 KB)\n"
      ]
     },
     "metadata": {},
     "output_type": "display_data"
    },
    {
     "data": {
      "text/html": [
       "<pre style=\"white-space:pre;overflow-x:auto;line-height:normal;font-family:Menlo,'DejaVu Sans Mono',consolas,'Courier New',monospace\"><span style=\"font-weight: bold\"> Non-trainable params: </span><span style=\"color: #00af00; text-decoration-color: #00af00\">0</span> (0.00 B)\n",
       "</pre>\n"
      ],
      "text/plain": [
       "\u001b[1m Non-trainable params: \u001b[0m\u001b[38;5;34m0\u001b[0m (0.00 B)\n"
      ]
     },
     "metadata": {},
     "output_type": "display_data"
    }
   ],
   "source": [
    "import tensorflow as tf\n",
    "from tensorflow.keras import layers\n",
    "\n",
    "# Generator\n",
    "def build_generator(latent_dim):\n",
    "    model = tf.keras.Sequential()\n",
    "    model.add(layers.Dense(16, activation=\"relu\", input_dim=latent_dim))\n",
    "    model.add(layers.Dense(32, activation=\"relu\"))\n",
    "    model.add(layers.Dense(1, activation=\"sigmoid\"))  # Output will be in the range [0, 1]\n",
    "    return model\n",
    "\n",
    "# Define the latent space dimension (random noise input)\n",
    "latent_dim = 10\n",
    "\n",
    "# Build the generator\n",
    "generator = build_generator(latent_dim)\n",
    "generator.summary()\n"
   ]
  },
  {
   "cell_type": "code",
   "execution_count": 15,
   "metadata": {},
   "outputs": [
    {
     "data": {
      "text/html": [
       "<pre style=\"white-space:pre;overflow-x:auto;line-height:normal;font-family:Menlo,'DejaVu Sans Mono',consolas,'Courier New',monospace\"><span style=\"font-weight: bold\">Model: \"sequential_1\"</span>\n",
       "</pre>\n"
      ],
      "text/plain": [
       "\u001b[1mModel: \"sequential_1\"\u001b[0m\n"
      ]
     },
     "metadata": {},
     "output_type": "display_data"
    },
    {
     "data": {
      "text/html": [
       "<pre style=\"white-space:pre;overflow-x:auto;line-height:normal;font-family:Menlo,'DejaVu Sans Mono',consolas,'Courier New',monospace\">┏━━━━━━━━━━━━━━━━━━━━━━━━━━━━━━━━━┳━━━━━━━━━━━━━━━━━━━━━━━━┳━━━━━━━━━━━━━━━┓\n",
       "┃<span style=\"font-weight: bold\"> Layer (type)                    </span>┃<span style=\"font-weight: bold\"> Output Shape           </span>┃<span style=\"font-weight: bold\">       Param # </span>┃\n",
       "┡━━━━━━━━━━━━━━━━━━━━━━━━━━━━━━━━━╇━━━━━━━━━━━━━━━━━━━━━━━━╇━━━━━━━━━━━━━━━┩\n",
       "│ dense_3 (<span style=\"color: #0087ff; text-decoration-color: #0087ff\">Dense</span>)                 │ (<span style=\"color: #00d7ff; text-decoration-color: #00d7ff\">None</span>, <span style=\"color: #00af00; text-decoration-color: #00af00\">32</span>)             │            <span style=\"color: #00af00; text-decoration-color: #00af00\">64</span> │\n",
       "├─────────────────────────────────┼────────────────────────┼───────────────┤\n",
       "│ dense_4 (<span style=\"color: #0087ff; text-decoration-color: #0087ff\">Dense</span>)                 │ (<span style=\"color: #00d7ff; text-decoration-color: #00d7ff\">None</span>, <span style=\"color: #00af00; text-decoration-color: #00af00\">16</span>)             │           <span style=\"color: #00af00; text-decoration-color: #00af00\">528</span> │\n",
       "├─────────────────────────────────┼────────────────────────┼───────────────┤\n",
       "│ dense_5 (<span style=\"color: #0087ff; text-decoration-color: #0087ff\">Dense</span>)                 │ (<span style=\"color: #00d7ff; text-decoration-color: #00d7ff\">None</span>, <span style=\"color: #00af00; text-decoration-color: #00af00\">1</span>)              │            <span style=\"color: #00af00; text-decoration-color: #00af00\">17</span> │\n",
       "└─────────────────────────────────┴────────────────────────┴───────────────┘\n",
       "</pre>\n"
      ],
      "text/plain": [
       "┏━━━━━━━━━━━━━━━━━━━━━━━━━━━━━━━━━┳━━━━━━━━━━━━━━━━━━━━━━━━┳━━━━━━━━━━━━━━━┓\n",
       "┃\u001b[1m \u001b[0m\u001b[1mLayer (type)                   \u001b[0m\u001b[1m \u001b[0m┃\u001b[1m \u001b[0m\u001b[1mOutput Shape          \u001b[0m\u001b[1m \u001b[0m┃\u001b[1m \u001b[0m\u001b[1m      Param #\u001b[0m\u001b[1m \u001b[0m┃\n",
       "┡━━━━━━━━━━━━━━━━━━━━━━━━━━━━━━━━━╇━━━━━━━━━━━━━━━━━━━━━━━━╇━━━━━━━━━━━━━━━┩\n",
       "│ dense_3 (\u001b[38;5;33mDense\u001b[0m)                 │ (\u001b[38;5;45mNone\u001b[0m, \u001b[38;5;34m32\u001b[0m)             │            \u001b[38;5;34m64\u001b[0m │\n",
       "├─────────────────────────────────┼────────────────────────┼───────────────┤\n",
       "│ dense_4 (\u001b[38;5;33mDense\u001b[0m)                 │ (\u001b[38;5;45mNone\u001b[0m, \u001b[38;5;34m16\u001b[0m)             │           \u001b[38;5;34m528\u001b[0m │\n",
       "├─────────────────────────────────┼────────────────────────┼───────────────┤\n",
       "│ dense_5 (\u001b[38;5;33mDense\u001b[0m)                 │ (\u001b[38;5;45mNone\u001b[0m, \u001b[38;5;34m1\u001b[0m)              │            \u001b[38;5;34m17\u001b[0m │\n",
       "└─────────────────────────────────┴────────────────────────┴───────────────┘\n"
      ]
     },
     "metadata": {},
     "output_type": "display_data"
    },
    {
     "data": {
      "text/html": [
       "<pre style=\"white-space:pre;overflow-x:auto;line-height:normal;font-family:Menlo,'DejaVu Sans Mono',consolas,'Courier New',monospace\"><span style=\"font-weight: bold\"> Total params: </span><span style=\"color: #00af00; text-decoration-color: #00af00\">609</span> (2.38 KB)\n",
       "</pre>\n"
      ],
      "text/plain": [
       "\u001b[1m Total params: \u001b[0m\u001b[38;5;34m609\u001b[0m (2.38 KB)\n"
      ]
     },
     "metadata": {},
     "output_type": "display_data"
    },
    {
     "data": {
      "text/html": [
       "<pre style=\"white-space:pre;overflow-x:auto;line-height:normal;font-family:Menlo,'DejaVu Sans Mono',consolas,'Courier New',monospace\"><span style=\"font-weight: bold\"> Trainable params: </span><span style=\"color: #00af00; text-decoration-color: #00af00\">609</span> (2.38 KB)\n",
       "</pre>\n"
      ],
      "text/plain": [
       "\u001b[1m Trainable params: \u001b[0m\u001b[38;5;34m609\u001b[0m (2.38 KB)\n"
      ]
     },
     "metadata": {},
     "output_type": "display_data"
    },
    {
     "data": {
      "text/html": [
       "<pre style=\"white-space:pre;overflow-x:auto;line-height:normal;font-family:Menlo,'DejaVu Sans Mono',consolas,'Courier New',monospace\"><span style=\"font-weight: bold\"> Non-trainable params: </span><span style=\"color: #00af00; text-decoration-color: #00af00\">0</span> (0.00 B)\n",
       "</pre>\n"
      ],
      "text/plain": [
       "\u001b[1m Non-trainable params: \u001b[0m\u001b[38;5;34m0\u001b[0m (0.00 B)\n"
      ]
     },
     "metadata": {},
     "output_type": "display_data"
    }
   ],
   "source": [
    "# Discriminator\n",
    "def build_discriminator(input_shape):\n",
    "    model = tf.keras.Sequential()\n",
    "    model.add(layers.Dense(32, activation=\"relu\", input_shape=input_shape))\n",
    "    model.add(layers.Dense(16, activation=\"relu\"))\n",
    "    model.add(layers.Dense(1, activation=\"sigmoid\"))  # Binary classification (real or fake)\n",
    "    return model\n",
    "\n",
    "# Build the discriminator\n",
    "discriminator = build_discriminator((1,))\n",
    "discriminator.compile(optimizer='adam', loss='binary_crossentropy', metrics=['accuracy'])\n",
    "discriminator.summary()\n"
   ]
  },
  {
   "cell_type": "code",
   "execution_count": 16,
   "metadata": {},
   "outputs": [
    {
     "data": {
      "text/html": [
       "<pre style=\"white-space:pre;overflow-x:auto;line-height:normal;font-family:Menlo,'DejaVu Sans Mono',consolas,'Courier New',monospace\"><span style=\"font-weight: bold\">Model: \"functional_6\"</span>\n",
       "</pre>\n"
      ],
      "text/plain": [
       "\u001b[1mModel: \"functional_6\"\u001b[0m\n"
      ]
     },
     "metadata": {},
     "output_type": "display_data"
    },
    {
     "data": {
      "text/html": [
       "<pre style=\"white-space:pre;overflow-x:auto;line-height:normal;font-family:Menlo,'DejaVu Sans Mono',consolas,'Courier New',monospace\">┏━━━━━━━━━━━━━━━━━━━━━━━━━━━━━━━━━┳━━━━━━━━━━━━━━━━━━━━━━━━┳━━━━━━━━━━━━━━━┓\n",
       "┃<span style=\"font-weight: bold\"> Layer (type)                    </span>┃<span style=\"font-weight: bold\"> Output Shape           </span>┃<span style=\"font-weight: bold\">       Param # </span>┃\n",
       "┡━━━━━━━━━━━━━━━━━━━━━━━━━━━━━━━━━╇━━━━━━━━━━━━━━━━━━━━━━━━╇━━━━━━━━━━━━━━━┩\n",
       "│ input_layer_2 (<span style=\"color: #0087ff; text-decoration-color: #0087ff\">InputLayer</span>)      │ (<span style=\"color: #00d7ff; text-decoration-color: #00d7ff\">None</span>, <span style=\"color: #00af00; text-decoration-color: #00af00\">10</span>)             │             <span style=\"color: #00af00; text-decoration-color: #00af00\">0</span> │\n",
       "├─────────────────────────────────┼────────────────────────┼───────────────┤\n",
       "│ sequential (<span style=\"color: #0087ff; text-decoration-color: #0087ff\">Sequential</span>)         │ (<span style=\"color: #00d7ff; text-decoration-color: #00d7ff\">None</span>, <span style=\"color: #00af00; text-decoration-color: #00af00\">1</span>)              │           <span style=\"color: #00af00; text-decoration-color: #00af00\">753</span> │\n",
       "├─────────────────────────────────┼────────────────────────┼───────────────┤\n",
       "│ sequential_1 (<span style=\"color: #0087ff; text-decoration-color: #0087ff\">Sequential</span>)       │ (<span style=\"color: #00d7ff; text-decoration-color: #00d7ff\">None</span>, <span style=\"color: #00af00; text-decoration-color: #00af00\">1</span>)              │           <span style=\"color: #00af00; text-decoration-color: #00af00\">609</span> │\n",
       "└─────────────────────────────────┴────────────────────────┴───────────────┘\n",
       "</pre>\n"
      ],
      "text/plain": [
       "┏━━━━━━━━━━━━━━━━━━━━━━━━━━━━━━━━━┳━━━━━━━━━━━━━━━━━━━━━━━━┳━━━━━━━━━━━━━━━┓\n",
       "┃\u001b[1m \u001b[0m\u001b[1mLayer (type)                   \u001b[0m\u001b[1m \u001b[0m┃\u001b[1m \u001b[0m\u001b[1mOutput Shape          \u001b[0m\u001b[1m \u001b[0m┃\u001b[1m \u001b[0m\u001b[1m      Param #\u001b[0m\u001b[1m \u001b[0m┃\n",
       "┡━━━━━━━━━━━━━━━━━━━━━━━━━━━━━━━━━╇━━━━━━━━━━━━━━━━━━━━━━━━╇━━━━━━━━━━━━━━━┩\n",
       "│ input_layer_2 (\u001b[38;5;33mInputLayer\u001b[0m)      │ (\u001b[38;5;45mNone\u001b[0m, \u001b[38;5;34m10\u001b[0m)             │             \u001b[38;5;34m0\u001b[0m │\n",
       "├─────────────────────────────────┼────────────────────────┼───────────────┤\n",
       "│ sequential (\u001b[38;5;33mSequential\u001b[0m)         │ (\u001b[38;5;45mNone\u001b[0m, \u001b[38;5;34m1\u001b[0m)              │           \u001b[38;5;34m753\u001b[0m │\n",
       "├─────────────────────────────────┼────────────────────────┼───────────────┤\n",
       "│ sequential_1 (\u001b[38;5;33mSequential\u001b[0m)       │ (\u001b[38;5;45mNone\u001b[0m, \u001b[38;5;34m1\u001b[0m)              │           \u001b[38;5;34m609\u001b[0m │\n",
       "└─────────────────────────────────┴────────────────────────┴───────────────┘\n"
      ]
     },
     "metadata": {},
     "output_type": "display_data"
    },
    {
     "data": {
      "text/html": [
       "<pre style=\"white-space:pre;overflow-x:auto;line-height:normal;font-family:Menlo,'DejaVu Sans Mono',consolas,'Courier New',monospace\"><span style=\"font-weight: bold\"> Total params: </span><span style=\"color: #00af00; text-decoration-color: #00af00\">1,362</span> (5.32 KB)\n",
       "</pre>\n"
      ],
      "text/plain": [
       "\u001b[1m Total params: \u001b[0m\u001b[38;5;34m1,362\u001b[0m (5.32 KB)\n"
      ]
     },
     "metadata": {},
     "output_type": "display_data"
    },
    {
     "data": {
      "text/html": [
       "<pre style=\"white-space:pre;overflow-x:auto;line-height:normal;font-family:Menlo,'DejaVu Sans Mono',consolas,'Courier New',monospace\"><span style=\"font-weight: bold\"> Trainable params: </span><span style=\"color: #00af00; text-decoration-color: #00af00\">753</span> (2.94 KB)\n",
       "</pre>\n"
      ],
      "text/plain": [
       "\u001b[1m Trainable params: \u001b[0m\u001b[38;5;34m753\u001b[0m (2.94 KB)\n"
      ]
     },
     "metadata": {},
     "output_type": "display_data"
    },
    {
     "data": {
      "text/html": [
       "<pre style=\"white-space:pre;overflow-x:auto;line-height:normal;font-family:Menlo,'DejaVu Sans Mono',consolas,'Courier New',monospace\"><span style=\"font-weight: bold\"> Non-trainable params: </span><span style=\"color: #00af00; text-decoration-color: #00af00\">609</span> (2.38 KB)\n",
       "</pre>\n"
      ],
      "text/plain": [
       "\u001b[1m Non-trainable params: \u001b[0m\u001b[38;5;34m609\u001b[0m (2.38 KB)\n"
      ]
     },
     "metadata": {},
     "output_type": "display_data"
    }
   ],
   "source": [
    "def build_gan(generator, discriminator):\n",
    "    discriminator.trainable = False\n",
    "    gan_input = layers.Input(shape=(latent_dim,))\n",
    "    generated_label = generator(gan_input)\n",
    "    gan_output = discriminator(generated_label)\n",
    "    gan = tf.keras.Model(gan_input, gan_output)\n",
    "    gan.compile(optimizer='adam', loss='binary_crossentropy')\n",
    "    return gan\n",
    "\n",
    "# Build the GAN\n",
    "gan = build_gan(generator, discriminator)\n",
    "gan.summary()\n"
   ]
  },
  {
   "cell_type": "code",
   "execution_count": 20,
   "metadata": {},
   "outputs": [
    {
     "name": "stdout",
     "output_type": "stream",
     "text": [
      "\u001b[1m2/2\u001b[0m \u001b[32m━━━━━━━━━━━━━━━━━━━━\u001b[0m\u001b[37m\u001b[0m \u001b[1m0s\u001b[0m 1ms/step \n",
      "0 [D loss real: 0.7047628164291382, D loss fake: 0.7047681212425232] [G loss: [array(0.7047681, dtype=float32), array(0.7047681, dtype=float32), array(0.13590842, dtype=float32)]]\n",
      "\u001b[1m2/2\u001b[0m \u001b[32m━━━━━━━━━━━━━━━━━━━━\u001b[0m\u001b[37m\u001b[0m \u001b[1m0s\u001b[0m 723us/step\n",
      "\u001b[1m2/2\u001b[0m \u001b[32m━━━━━━━━━━━━━━━━━━━━\u001b[0m\u001b[37m\u001b[0m \u001b[1m0s\u001b[0m 1ms/step\n",
      "\u001b[1m2/2\u001b[0m \u001b[32m━━━━━━━━━━━━━━━━━━━━\u001b[0m\u001b[37m\u001b[0m \u001b[1m0s\u001b[0m 681us/step\n",
      "\u001b[1m2/2\u001b[0m \u001b[32m━━━━━━━━━━━━━━━━━━━━\u001b[0m\u001b[37m\u001b[0m \u001b[1m0s\u001b[0m 670us/step\n",
      "\u001b[1m2/2\u001b[0m \u001b[32m━━━━━━━━━━━━━━━━━━━━\u001b[0m\u001b[37m\u001b[0m \u001b[1m0s\u001b[0m 841us/step\n",
      "\u001b[1m2/2\u001b[0m \u001b[32m━━━━━━━━━━━━━━━━━━━━\u001b[0m\u001b[37m\u001b[0m \u001b[1m0s\u001b[0m 698us/step\n",
      "\u001b[1m2/2\u001b[0m \u001b[32m━━━━━━━━━━━━━━━━━━━━\u001b[0m\u001b[37m\u001b[0m \u001b[1m0s\u001b[0m 706us/step\n",
      "\u001b[1m2/2\u001b[0m \u001b[32m━━━━━━━━━━━━━━━━━━━━\u001b[0m\u001b[37m\u001b[0m \u001b[1m0s\u001b[0m 746us/step\n",
      "\u001b[1m2/2\u001b[0m \u001b[32m━━━━━━━━━━━━━━━━━━━━\u001b[0m\u001b[37m\u001b[0m \u001b[1m0s\u001b[0m 786us/step\n",
      "\u001b[1m2/2\u001b[0m \u001b[32m━━━━━━━━━━━━━━━━━━━━\u001b[0m\u001b[37m\u001b[0m \u001b[1m0s\u001b[0m 718us/step\n",
      "\u001b[1m2/2\u001b[0m \u001b[32m━━━━━━━━━━━━━━━━━━━━\u001b[0m\u001b[37m\u001b[0m \u001b[1m0s\u001b[0m 724us/step\n",
      "\u001b[1m2/2\u001b[0m \u001b[32m━━━━━━━━━━━━━━━━━━━━\u001b[0m\u001b[37m\u001b[0m \u001b[1m0s\u001b[0m 698us/step\n",
      "\u001b[1m2/2\u001b[0m \u001b[32m━━━━━━━━━━━━━━━━━━━━\u001b[0m\u001b[37m\u001b[0m \u001b[1m0s\u001b[0m 800us/step\n",
      "\u001b[1m2/2\u001b[0m \u001b[32m━━━━━━━━━━━━━━━━━━━━\u001b[0m\u001b[37m\u001b[0m \u001b[1m0s\u001b[0m 672us/step\n",
      "\u001b[1m2/2\u001b[0m \u001b[32m━━━━━━━━━━━━━━━━━━━━\u001b[0m\u001b[37m\u001b[0m \u001b[1m0s\u001b[0m 838us/step\n",
      "\u001b[1m2/2\u001b[0m \u001b[32m━━━━━━━━━━━━━━━━━━━━\u001b[0m\u001b[37m\u001b[0m \u001b[1m0s\u001b[0m 839us/step\n",
      "\u001b[1m2/2\u001b[0m \u001b[32m━━━━━━━━━━━━━━━━━━━━\u001b[0m\u001b[37m\u001b[0m \u001b[1m0s\u001b[0m 772us/step\n",
      "\u001b[1m2/2\u001b[0m \u001b[32m━━━━━━━━━━━━━━━━━━━━\u001b[0m\u001b[37m\u001b[0m \u001b[1m0s\u001b[0m 789us/step\n",
      "\u001b[1m2/2\u001b[0m \u001b[32m━━━━━━━━━━━━━━━━━━━━\u001b[0m\u001b[37m\u001b[0m \u001b[1m0s\u001b[0m 779us/step\n",
      "\u001b[1m2/2\u001b[0m \u001b[32m━━━━━━━━━━━━━━━━━━━━\u001b[0m\u001b[37m\u001b[0m \u001b[1m0s\u001b[0m 670us/step\n",
      "\u001b[1m2/2\u001b[0m \u001b[32m━━━━━━━━━━━━━━━━━━━━\u001b[0m\u001b[37m\u001b[0m \u001b[1m0s\u001b[0m 892us/step\n",
      "\u001b[1m2/2\u001b[0m \u001b[32m━━━━━━━━━━━━━━━━━━━━\u001b[0m\u001b[37m\u001b[0m \u001b[1m0s\u001b[0m 913us/step\n",
      "\u001b[1m2/2\u001b[0m \u001b[32m━━━━━━━━━━━━━━━━━━━━\u001b[0m\u001b[37m\u001b[0m \u001b[1m0s\u001b[0m 780us/step\n",
      "\u001b[1m2/2\u001b[0m \u001b[32m━━━━━━━━━━━━━━━━━━━━\u001b[0m\u001b[37m\u001b[0m \u001b[1m0s\u001b[0m 821us/step\n",
      "\u001b[1m2/2\u001b[0m \u001b[32m━━━━━━━━━━━━━━━━━━━━\u001b[0m\u001b[37m\u001b[0m \u001b[1m0s\u001b[0m 646us/step\n",
      "\u001b[1m2/2\u001b[0m \u001b[32m━━━━━━━━━━━━━━━━━━━━\u001b[0m\u001b[37m\u001b[0m \u001b[1m0s\u001b[0m 691us/step\n",
      "\u001b[1m2/2\u001b[0m \u001b[32m━━━━━━━━━━━━━━━━━━━━\u001b[0m\u001b[37m\u001b[0m \u001b[1m0s\u001b[0m 757us/step\n",
      "\u001b[1m2/2\u001b[0m \u001b[32m━━━━━━━━━━━━━━━━━━━━\u001b[0m\u001b[37m\u001b[0m \u001b[1m0s\u001b[0m 733us/step\n",
      "\u001b[1m2/2\u001b[0m \u001b[32m━━━━━━━━━━━━━━━━━━━━\u001b[0m\u001b[37m\u001b[0m \u001b[1m0s\u001b[0m 831us/step\n",
      "\u001b[1m2/2\u001b[0m \u001b[32m━━━━━━━━━━━━━━━━━━━━\u001b[0m\u001b[37m\u001b[0m \u001b[1m0s\u001b[0m 664us/step\n",
      "\u001b[1m2/2\u001b[0m \u001b[32m━━━━━━━━━━━━━━━━━━━━\u001b[0m\u001b[37m\u001b[0m \u001b[1m0s\u001b[0m 709us/step\n",
      "\u001b[1m2/2\u001b[0m \u001b[32m━━━━━━━━━━━━━━━━━━━━\u001b[0m\u001b[37m\u001b[0m \u001b[1m0s\u001b[0m 683us/step\n",
      "\u001b[1m2/2\u001b[0m \u001b[32m━━━━━━━━━━━━━━━━━━━━\u001b[0m\u001b[37m\u001b[0m \u001b[1m0s\u001b[0m 646us/step\n",
      "\u001b[1m2/2\u001b[0m \u001b[32m━━━━━━━━━━━━━━━━━━━━\u001b[0m\u001b[37m\u001b[0m \u001b[1m0s\u001b[0m 867us/step\n",
      "\u001b[1m2/2\u001b[0m \u001b[32m━━━━━━━━━━━━━━━━━━━━\u001b[0m\u001b[37m\u001b[0m \u001b[1m0s\u001b[0m 651us/step\n",
      "\u001b[1m2/2\u001b[0m \u001b[32m━━━━━━━━━━━━━━━━━━━━\u001b[0m\u001b[37m\u001b[0m \u001b[1m0s\u001b[0m 768us/step\n",
      "\u001b[1m2/2\u001b[0m \u001b[32m━━━━━━━━━━━━━━━━━━━━\u001b[0m\u001b[37m\u001b[0m \u001b[1m0s\u001b[0m 673us/step\n",
      "\u001b[1m2/2\u001b[0m \u001b[32m━━━━━━━━━━━━━━━━━━━━\u001b[0m\u001b[37m\u001b[0m \u001b[1m0s\u001b[0m 686us/step\n",
      "\u001b[1m2/2\u001b[0m \u001b[32m━━━━━━━━━━━━━━━━━━━━\u001b[0m\u001b[37m\u001b[0m \u001b[1m0s\u001b[0m 675us/step\n",
      "\u001b[1m2/2\u001b[0m \u001b[32m━━━━━━━━━━━━━━━━━━━━\u001b[0m\u001b[37m\u001b[0m \u001b[1m0s\u001b[0m 770us/step\n",
      "\u001b[1m2/2\u001b[0m \u001b[32m━━━━━━━━━━━━━━━━━━━━\u001b[0m\u001b[37m\u001b[0m \u001b[1m0s\u001b[0m 667us/step\n",
      "\u001b[1m2/2\u001b[0m \u001b[32m━━━━━━━━━━━━━━━━━━━━\u001b[0m\u001b[37m\u001b[0m \u001b[1m0s\u001b[0m 807us/step\n",
      "\u001b[1m2/2\u001b[0m \u001b[32m━━━━━━━━━━━━━━━━━━━━\u001b[0m\u001b[37m\u001b[0m \u001b[1m0s\u001b[0m 812us/step\n",
      "\u001b[1m2/2\u001b[0m \u001b[32m━━━━━━━━━━━━━━━━━━━━\u001b[0m\u001b[37m\u001b[0m \u001b[1m0s\u001b[0m 749us/step\n",
      "\u001b[1m2/2\u001b[0m \u001b[32m━━━━━━━━━━━━━━━━━━━━\u001b[0m\u001b[37m\u001b[0m \u001b[1m0s\u001b[0m 877us/step\n",
      "\u001b[1m2/2\u001b[0m \u001b[32m━━━━━━━━━━━━━━━━━━━━\u001b[0m\u001b[37m\u001b[0m \u001b[1m0s\u001b[0m 669us/step\n",
      "\u001b[1m2/2\u001b[0m \u001b[32m━━━━━━━━━━━━━━━━━━━━\u001b[0m\u001b[37m\u001b[0m \u001b[1m0s\u001b[0m 732us/step\n",
      "\u001b[1m2/2\u001b[0m \u001b[32m━━━━━━━━━━━━━━━━━━━━\u001b[0m\u001b[37m\u001b[0m \u001b[1m0s\u001b[0m 700us/step\n",
      "\u001b[1m2/2\u001b[0m \u001b[32m━━━━━━━━━━━━━━━━━━━━\u001b[0m\u001b[37m\u001b[0m \u001b[1m0s\u001b[0m 841us/step\n"
     ]
    }
   ],
   "source": [
    "def train_gan(gan, generator, discriminator, real_labels, epochs, batch_size, latent_dim):\n",
    "    for epoch in range(epochs):\n",
    "        # 1. Train the Discriminator\n",
    "        idx = np.random.randint(0, real_labels.shape[0], batch_size)\n",
    "        real_samples = real_labels[idx]\n",
    "        \n",
    "        # Generate fake samples (labels)\n",
    "        noise = np.random.normal(0, 1, (batch_size, latent_dim))\n",
    "        fake_samples = generator.predict(noise)\n",
    "        \n",
    "        # Train the discriminator\n",
    "        discriminator_loss_real = discriminator.train_on_batch(real_samples, np.ones((batch_size, 1)))\n",
    "        discriminator_loss_fake = discriminator.train_on_batch(fake_samples, np.zeros((batch_size, 1)))\n",
    "        \n",
    "        # 2. Train the Generator\n",
    "        noise = np.random.normal(0, 1, (batch_size, latent_dim))\n",
    "        valid_y = np.array([1] * batch_size)  # Labels for valid (all real)\n",
    "        generator_loss = gan.train_on_batch(noise, valid_y)\n",
    "        \n",
    "        if epoch % 100 == 0:\n",
    "            print(f\"{epoch} [D loss real: {discriminator_loss_real[0]}, D loss fake: {discriminator_loss_fake[0]}] [G loss: {generator_loss}]\")\n",
    "\n",
    "# Train the GAN on the labels\n",
    "train_gan(gan, generator, discriminator, labels, epochs=50, batch_size=64, latent_dim=latent_dim)\n"
   ]
  },
  {
   "cell_type": "code",
   "execution_count": 21,
   "metadata": {},
   "outputs": [
    {
     "name": "stdout",
     "output_type": "stream",
     "text": [
      "\u001b[1m1/1\u001b[0m \u001b[32m━━━━━━━━━━━━━━━━━━━━\u001b[0m\u001b[37m\u001b[0m \u001b[1m0s\u001b[0m 25ms/step\n",
      "[[0.9999994 ]\n",
      " [0.9999883 ]\n",
      " [0.9999909 ]\n",
      " [0.99992466]\n",
      " [0.9999975 ]\n",
      " [0.99999833]\n",
      " [0.99984705]\n",
      " [0.9999994 ]\n",
      " [0.99999523]\n",
      " [0.99999934]]\n"
     ]
    }
   ],
   "source": [
    "# Generate synthetic labels\n",
    "noise = np.random.normal(0, 1, (10, latent_dim))  # Generate 10 samples\n",
    "generated_labels = generator.predict(noise)\n",
    "\n",
    "print(generated_labels)\n"
   ]
  },
  {
   "cell_type": "code",
   "execution_count": 2,
   "metadata": {},
   "outputs": [
    {
     "name": "stdout",
     "output_type": "stream",
     "text": [
      "                                              sha256 appeared  label  \\\n",
      "0  0abb4fda7d5b13801d63bee53e5e256be43e141faa077a...  2006-12      0   \n",
      "1  d4206650743b3d519106dea10a38a55c30467c3d9f7875...  2006-12      0   \n",
      "2  c9cafff8a596ba8a80bafb4ba8ae6f2ef3329d95b85f15...  2007-01      0   \n",
      "3  7f513818bcc276c531af2e641c597744da807e21cc1160...  2007-02      0   \n",
      "4  ca65e1c387a4cc9e7d8a8ce12bf1bcf9f534c9032b9d95...  2007-02      0   \n",
      "\n",
      "                                           histogram  \\\n",
      "0  [45521, 13095, 12167, 12496, 12429, 11709, 118...   \n",
      "1  [89698, 17443, 13695, 12921, 11428, 8866, 9528...   \n",
      "2  [93059, 15789, 2871, 3005, 4107, 1771, 2918, 4...   \n",
      "3  [21315, 9641, 9332, 9358, 9598, 9220, 9146, 93...   \n",
      "4  [23539, 6015, 5214, 4727, 4892, 4649, 4367, 52...   \n",
      "\n",
      "                                         byteentropy  \\\n",
      "0  [0, 0, 0, 0, 0, 0, 0, 0, 0, 0, 0, 0, 0, 0, 0, ...   \n",
      "1  [65236, 16, 24, 13, 28, 11, 121, 40, 5, 7, 5, ...   \n",
      "2  [47100, 2, 0, 0, 0, 0, 2, 0, 0, 0, 0, 0, 0, 0,...   \n",
      "3  [0, 0, 0, 0, 0, 0, 0, 0, 0, 0, 0, 0, 0, 0, 0, ...   \n",
      "4  [0, 0, 0, 0, 0, 0, 0, 0, 0, 0, 0, 0, 0, 0, 0, ...   \n",
      "\n",
      "                                             strings  \\\n",
      "0  {'numstrings': 14573, 'avlength': 5.9720716393...   \n",
      "1  {'numstrings': 4385, 'avlength': 6.35712656784...   \n",
      "2  {'numstrings': 1803, 'avlength': 11.1913477537...   \n",
      "3  {'numstrings': 11166, 'avlength': 5.8078989790...   \n",
      "4  {'numstrings': 5547, 'avlength': 6.04344690823...   \n",
      "\n",
      "                                             general  \\\n",
      "0  {'size': 3101705, 'vsize': 380928, 'has_debug'...   \n",
      "1  {'size': 1240795, 'vsize': 1318912, 'has_debug...   \n",
      "2  {'size': 504320, 'vsize': 524288, 'has_debug':...   \n",
      "3  {'size': 2377730, 'vsize': 77824, 'has_debug':...   \n",
      "4  {'size': 1153808, 'vsize': 1167360, 'has_debug...   \n",
      "\n",
      "                                              header  \\\n",
      "0  {'coff': {'timestamp': 1124149349, 'machine': ...   \n",
      "1  {'coff': {'timestamp': 708992537, 'machine': '...   \n",
      "2  {'coff': {'timestamp': 1091600092, 'machine': ...   \n",
      "3  {'coff': {'timestamp': 708992537, 'machine': '...   \n",
      "4  {'coff': {'timestamp': 938258311, 'machine': '...   \n",
      "\n",
      "                                             section  \\\n",
      "0  {'entry': '.text', 'sections': [{'name': '.tex...   \n",
      "1  {'entry': 'UPX0', 'sections': [{'name': 'UPX0'...   \n",
      "2  {'entry': '.text', 'sections': [{'name': '.tex...   \n",
      "3  {'entry': 'CODE', 'sections': [{'name': 'CODE'...   \n",
      "4  {'entry': '.text', 'sections': [{'name': '.tex...   \n",
      "\n",
      "                                             imports exports  \n",
      "0  {'KERNEL32.dll': ['SetFileTime', 'CompareFileT...      []  \n",
      "1  {'KERNEL32.DLL': ['LoadLibraryA', 'GetProcAddr...      []  \n",
      "2  {'ADVAPI32.dll': ['ConvertStringSecurityDescri...      []  \n",
      "3  {'kernel32.dll': ['DeleteCriticalSection', 'Le...      []  \n",
      "4  {'ADVAPI32.dll': ['RegCloseKey', 'AllocateAndI...      []  \n",
      "sha256         0\n",
      "appeared       0\n",
      "label          0\n",
      "histogram      0\n",
      "byteentropy    0\n",
      "strings        0\n",
      "general        0\n",
      "header         0\n",
      "section        0\n",
      "imports        0\n",
      "exports        0\n",
      "dtype: int64\n"
     ]
    }
   ],
   "source": [
    "# List of all the jsonl files\n",
    "file_paths = [\n",
    "    './ember/train_features_0.jsonl',\n",
    "    #'./ember/train_features_1.jsonl',\n",
    "    #'./ember/train_features_2.jsonl',\n",
    "    #'./ember/train_features_3.jsonl',\n",
    "    #'./ember/train_features_4.jsonl',\n",
    "    #'./ember/train_features_5.jsonl',\n",
    "    # Add more paths as needed\n",
    "]\n",
    "\n",
    "# Load and concatenate all jsonl files\n",
    "dfs = [pd.read_json(file, lines=True) for file in file_paths]\n",
    "full_df = pd.concat(dfs, ignore_index=True)\n",
    "\n",
    "# Display the first few rows of the combined dataframe\n",
    "print(full_df.head())\n",
    "\n",
    "# Check for missing values\n",
    "print(full_df.isnull().sum())\n",
    "\n",
    "# Drop rows with missing values (if needed)\n",
    "clean_df = full_df.dropna()\n",
    "\n",
    "clean_df.to_csv('cleaned_ember_dataset2.csv', index=False)"
   ]
  }
 ],
 "metadata": {
  "kernelspec": {
   "display_name": "Python 3",
   "language": "python",
   "name": "python3"
  },
  "language_info": {
   "codemirror_mode": {
    "name": "ipython",
    "version": 3
   },
   "file_extension": ".py",
   "mimetype": "text/x-python",
   "name": "python",
   "nbconvert_exporter": "python",
   "pygments_lexer": "ipython3",
   "version": "3.11.5"
  }
 },
 "nbformat": 4,
 "nbformat_minor": 2
}
